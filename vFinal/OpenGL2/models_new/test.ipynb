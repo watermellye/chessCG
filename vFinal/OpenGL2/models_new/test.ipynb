{
 "cells": [
  {
   "cell_type": "code",
   "execution_count": 15,
   "metadata": {},
   "outputs": [],
   "source": [
    "import os\n",
    "import shutil"
   ]
  },
  {
   "cell_type": "code",
   "execution_count": 16,
   "metadata": {},
   "outputs": [],
   "source": [
    "white_new=os.listdir(\"c\")\n",
    "black_new=os.listdir(\"b\")\n",
    "white_model=os.listdir(\"White\")\n",
    "black_model=os.listdir(\"Black\")"
   ]
  },
  {
   "cell_type": "code",
   "execution_count": 14,
   "metadata": {},
   "outputs": [],
   "source": [
    "for dirs in white_model:\n",
    "    subdir=\"White/\"+str(dirs)+\"/\"\n",
    "    for item in os.listdir(subdir):\n",
    "        subsubdir=subdir+item\n",
    "        if subsubdir.endswith(\".jpg\") or subsubdir.endswith(\".png\"):\n",
    "            os.remove(subsubdir)\n",
    "    for item in white_new:\n",
    "        shutil.copy(\"c/\"+item,subdir+item)"
   ]
  },
  {
   "cell_type": "code",
   "execution_count": 17,
   "metadata": {},
   "outputs": [],
   "source": [
    "for dirs in black_model:\n",
    "    subdir=\"Black/\"+str(dirs)+\"/\"\n",
    "    for item in os.listdir(subdir):\n",
    "        subsubdir=subdir+item\n",
    "        if subsubdir.endswith(\".jpg\") or subsubdir.endswith(\".png\"):\n",
    "            os.remove(subsubdir)\n",
    "    for item in black_new:\n",
    "        shutil.copy(\"d/\"+item,subdir+item)"
   ]
  },
  {
   "cell_type": "code",
   "execution_count": 11,
   "metadata": {},
   "outputs": [],
   "source": [
    "import cv2"
   ]
  },
  {
   "cell_type": "code",
   "execution_count": 12,
   "metadata": {},
   "outputs": [],
   "source": [
    "parentdir=r\"b/\"\n",
    "par=os.listdir(parentdir)\n",
    "for item in par:\n",
    "    if item.endswith(\".png\"):\n",
    "        img = cv2.imread(parentdir+item)\n",
    "        os.remove(parentdir+item)\n",
    "        newfilename = item.replace(\".png\",\".jpg\")\n",
    "        cv2.imwrite(parentdir+newfilename,img)"
   ]
  },
  {
   "cell_type": "code",
   "execution_count": null,
   "metadata": {},
   "outputs": [],
   "source": []
  }
 ],
 "metadata": {
  "interpreter": {
   "hash": "b3ba2566441a7c06988d0923437866b63cedc61552a5af99d1f4fb67d367b25f"
  },
  "kernelspec": {
   "display_name": "Python 3.8.3 64-bit ('base': conda)",
   "language": "python",
   "name": "python3"
  },
  "language_info": {
   "codemirror_mode": {
    "name": "ipython",
    "version": 3
   },
   "file_extension": ".py",
   "mimetype": "text/x-python",
   "name": "python",
   "nbconvert_exporter": "python",
   "pygments_lexer": "ipython3",
   "version": "3.8.3"
  },
  "orig_nbformat": 4
 },
 "nbformat": 4,
 "nbformat_minor": 2
}
